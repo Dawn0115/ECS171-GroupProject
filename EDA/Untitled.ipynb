{
 "cells": [
  {
   "cell_type": "code",
   "execution_count": 7,
   "id": "c22fe87a-3973-49e8-8700-7157e8c92ee1",
   "metadata": {},
   "outputs": [
    {
     "name": "stdout",
     "output_type": "stream",
     "text": [
      "          Feature     Min      Max    Mean  Median     Std\n",
      "0          Length  0.0750   0.8150  0.5171  0.5450  0.1182\n",
      "1        Diameter  0.0550   0.6500  0.4017  0.4250  0.0980\n",
      "2          Height  0.0000   1.1300  0.1355  0.1400  0.0380\n",
      "3    Whole weight  0.0020   2.8255  0.7890  0.7995  0.4577\n",
      "4  Whole weight.1  0.0010   1.4880  0.3408  0.3300  0.2044\n",
      "5  Whole weight.2  0.0005   0.7600  0.1694  0.1660  0.1009\n",
      "6    Shell weight  0.0015   1.0050  0.2259  0.2250  0.1302\n",
      "7           Rings  1.0000  29.0000  9.6968  9.0000  3.1762\n"
     ]
    }
   ],
   "source": [
    "import pandas as pd\n",
    "\n",
    "\n",
    "df = pd.read_csv(\"train.csv\")\n",
    "\n",
    "\n",
    "columns = ['Length', 'Diameter', 'Height',\n",
    "           'Whole weight', 'Whole weight.1', 'Whole weight.2', 'Shell weight','Rings']\n",
    "\n",
    "\n",
    "stats_list = []\n",
    "\n",
    "for col in columns:\n",
    "    stats_list.append({\n",
    "        \"Feature\": col,\n",
    "        \"Min\": df[col].min(),\n",
    "        \"Max\": df[col].max(),\n",
    "        \"Mean\": df[col].mean(),\n",
    "        \"Median\": df[col].median(),\n",
    "        \"Std\": df[col].std()\n",
    "    })\n",
    "\n",
    "\n",
    "stats = pd.DataFrame(stats_list)\n",
    "\n",
    "\n",
    "print(stats.round(4)) \n",
    "\n"
   ]
  },
  {
   "cell_type": "code",
   "execution_count": null,
   "id": "4831b10e-2118-48b0-9f02-94d556bd7ebc",
   "metadata": {},
   "outputs": [],
   "source": []
  }
 ],
 "metadata": {
  "kernelspec": {
   "display_name": "Python [conda env:base] *",
   "language": "python",
   "name": "conda-base-py"
  },
  "language_info": {
   "codemirror_mode": {
    "name": "ipython",
    "version": 3
   },
   "file_extension": ".py",
   "mimetype": "text/x-python",
   "name": "python",
   "nbconvert_exporter": "python",
   "pygments_lexer": "ipython3",
   "version": "3.12.7"
  }
 },
 "nbformat": 4,
 "nbformat_minor": 5
}
