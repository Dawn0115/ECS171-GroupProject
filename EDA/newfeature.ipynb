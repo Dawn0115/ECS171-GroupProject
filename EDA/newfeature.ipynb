{
 "cells": [
  {
   "cell_type": "code",
   "execution_count": 33,
   "id": "4155756d-afa8-4767-888e-3af35015897d",
   "metadata": {},
   "outputs": [
    {
     "name": "stdout",
     "output_type": "stream",
     "text": [
      "The number of candidate features is 219\n",
      "Start stage I selection.\n"
     ]
    },
    {
     "name": "stderr",
     "output_type": "stream",
     "text": [
      "100%|██████████████████████████████████████████████████████████████████████████████████| 16/16 [00:05<00:00,  2.95it/s]\n"
     ]
    },
    {
     "name": "stdout",
     "output_type": "stream",
     "text": [
      "51 same features have been deleted.\n",
      "Meet early-stopping in successive feature-wise halving.\n"
     ]
    },
    {
     "name": "stderr",
     "output_type": "stream",
     "text": [
      "100%|██████████████████████████████████████████████████████████████████████████████████| 16/16 [00:17<00:00,  1.08s/it]\n"
     ]
    },
    {
     "name": "stdout",
     "output_type": "stream",
     "text": [
      "The number of remaining candidate features is 168\n",
      "Start stage II selection.\n"
     ]
    },
    {
     "name": "stderr",
     "output_type": "stream",
     "text": [
      "100%|██████████████████████████████████████████████████████████████████████████████████| 16/16 [00:10<00:00,  1.55it/s]\n"
     ]
    },
    {
     "name": "stdout",
     "output_type": "stream",
     "text": [
      "Finish data processing.\n",
      "[LightGBM] [Warning] Found whitespace in feature_names, replace with underlines\n",
      "[LightGBM] [Info] Auto-choosing col-wise multi-threading, the overhead of testing was 0.044229 seconds.\n",
      "You can set `force_col_wise=true` to remove the overhead.\n",
      "[LightGBM] [Info] Total Bins 34379\n",
      "[LightGBM] [Info] Number of data points in the train set: 69812, number of used features: 174\n",
      "[LightGBM] [Warning] Found whitespace in feature_names, replace with underlines\n",
      "TOP-20：\n",
      " - (Length/Shell weight)\n",
      " - (Whole weight.1/Shell weight)\n",
      " - (Whole weight/Whole weight.1)\n",
      " - (Diameter/Shell weight)\n",
      " - (Length-Shell weight)\n",
      " - max(Whole weight.2,Shell weight)\n",
      " - freq(Shell weight)\n",
      " - (Shell weight+Height)\n",
      " - max(Shell weight,Height)\n",
      " - (Whole weight-Whole weight.1)\n",
      " - (Whole weight.2-Shell weight)\n",
      " - (Length/Height)\n",
      " - (Shell weight*Height)\n",
      " - (Whole weight/Whole weight.2)\n",
      " - min(Length,Shell weight)\n",
      " - (Diameter-Shell weight)\n",
      " - GroupByThenStd(Whole weight,Height)\n",
      " - (Diameter/Whole weight)\n",
      " - GroupByThenRank(Whole weight.1,Height)\n",
      " - (Whole weight+Height)\n"
     ]
    }
   ],
   "source": [
    "import pandas as pd\n",
    "from openfe import OpenFE, transform\n",
    "from openfe import tree_to_formula\n",
    "\n",
    "df = pd.read_csv(\"train_cleaned_sex_binary.csv\")\n",
    "\n",
    "cols_to_drop = [col for col in [\"Rings\", \"id\", \"Sex\"] if col in df.columns]\n",
    "X = df.drop(columns=cols_to_drop)\n",
    "y = df[\"Rings\"]\n",
    "\n",
    "ofe = OpenFE()\n",
    "features = ofe.fit(data=X, label=y, n_jobs=4)\n",
    "\n",
    "features = features[:20]\n",
    "\n",
    "print(\"TOP-20：\")\n",
    "for f in features:\n",
    "    print(\" -\", tree_to_formula(f))\n",
    "\n",
    "X_new, _ = transform(X, pd.DataFrame(), features, n_jobs=4)\n",
    "\n",
    "num_cols = X_new.shape[1]\n",
    "base_names = [tree_to_formula(f) for f in features]\n",
    "col_names = [f\"f{i+1:02d}_{name}\" for i, name in enumerate(base_names * ((num_cols // len(base_names)) + 1))]\n",
    "X_new.columns = col_names[:num_cols]\n",
    "\n",
    "\n",
    "df_new = pd.concat([X_new, y.reset_index(drop=True)], axis=1)\n",
    "\n",
    "\n",
    "\n",
    "\n",
    "\n",
    "\n",
    "\n",
    "\n",
    "\n"
   ]
  },
  {
   "cell_type": "code",
   "execution_count": null,
   "id": "d38a8a99-cdfa-4586-b584-b22af46a2be6",
   "metadata": {},
   "outputs": [],
   "source": [
    "I pick twelve New Features"
   ]
  },
  {
   "cell_type": "markdown",
   "id": "b4142025-143a-4450-ae3d-ed33908fd789",
   "metadata": {},
   "source": [
    "(Length/Shell weight)\n",
    "(Whole weight.1/Shell weight)\n",
    "(Whole weight/Whole weight.1)\n",
    " (Length-Shell weight)\n",
    "max(Whole weight.2,Shell weight)\n",
    " (Shell weight+Height)\n",
    "max(Shell weight,Height)\n",
    "(Whole weight-Whole weight.1)\n",
    " (Length/Height)\n",
    " (Shell weight*Height)\n",
    " (Whole weight/Whole weight.2)\n",
    " min(Length,Shell weight)"
   ]
  }
 ],
 "metadata": {
  "kernelspec": {
   "display_name": "Python [conda env:base] *",
   "language": "python",
   "name": "conda-base-py"
  },
  "language_info": {
   "codemirror_mode": {
    "name": "ipython",
    "version": 3
   },
   "file_extension": ".py",
   "mimetype": "text/x-python",
   "name": "python",
   "nbconvert_exporter": "python",
   "pygments_lexer": "ipython3",
   "version": "3.12.7"
  }
 },
 "nbformat": 4,
 "nbformat_minor": 5
}
