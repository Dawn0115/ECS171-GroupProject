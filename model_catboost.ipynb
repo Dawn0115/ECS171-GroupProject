{
 "cells": [
  {
   "cell_type": "code",
   "execution_count": 3,
   "metadata": {},
   "outputs": [
    {
     "name": "stdout",
     "output_type": "stream",
     "text": [
      "0:\tlearn: 2.9868817\ttest: 2.9993436\tbest: 2.9993436 (0)\ttotal: 13.2ms\tremaining: 13.2s\n",
      "100:\tlearn: 1.8491700\ttest: 1.8869201\tbest: 1.8869201 (100)\ttotal: 880ms\tremaining: 7.84s\n",
      "200:\tlearn: 1.8273758\ttest: 1.8758804\tbest: 1.8758804 (200)\ttotal: 1.73s\tremaining: 6.87s\n",
      "300:\tlearn: 1.8099467\ttest: 1.8704558\tbest: 1.8704558 (300)\ttotal: 2.54s\tremaining: 5.9s\n",
      "400:\tlearn: 1.7925098\ttest: 1.8659244\tbest: 1.8659244 (400)\ttotal: 3.35s\tremaining: 5s\n",
      "500:\tlearn: 1.7764142\ttest: 1.8624273\tbest: 1.8623805 (497)\ttotal: 4.19s\tremaining: 4.17s\n",
      "600:\tlearn: 1.7621509\ttest: 1.8589707\tbest: 1.8589707 (600)\ttotal: 5.05s\tremaining: 3.36s\n",
      "700:\tlearn: 1.7493883\ttest: 1.8570924\tbest: 1.8570876 (698)\ttotal: 5.88s\tremaining: 2.51s\n",
      "800:\tlearn: 1.7366888\ttest: 1.8547470\tbest: 1.8547028 (799)\ttotal: 6.72s\tremaining: 1.67s\n",
      "900:\tlearn: 1.7251750\ttest: 1.8538870\tbest: 1.8537164 (894)\ttotal: 7.55s\tremaining: 830ms\n",
      "999:\tlearn: 1.7148417\ttest: 1.8528457\tbest: 1.8527150 (995)\ttotal: 8.36s\tremaining: 0us\n",
      "\n",
      "bestTest = 1.852714985\n",
      "bestIteration = 995\n",
      "\n",
      "Shrink model to first 996 iterations.\n",
      "Validation RMSLE: 0.1494\n",
      "          id  Predicted_Rings  Actual_Rings\n",
      "37766  39173        12.854966            10\n",
      "23087  23958        12.548162             9\n",
      "62675  65068         7.480037             7\n",
      "84052  87269        10.165712            12\n",
      "79742  82796         8.680001            10\n"
     ]
    }
   ],
   "source": [
    "import pandas as pd\n",
    "from catboost import CatBoostRegressor, Pool\n",
    "from sklearn.model_selection import train_test_split\n",
    "from sklearn.metrics import mean_squared_log_error\n",
    "import numpy as np\n",
    "\n",
    "df = pd.read_csv('EDA/train_newfeature.csv')\n",
    "\n",
    "target = 'Rings'\n",
    "id_col = 'id'\n",
    "\n",
    "# Define feature columns (exclude ID and target)\n",
    "features = [col for col in df.columns if col not in [id_col, target]]\n",
    "\n",
    "# Specify categorical features\n",
    "cat_features = ['Sex']\n",
    "\n",
    "\n",
    "X_train, X_valid, y_train, y_valid = train_test_split(\n",
    "    df[features], df[target], test_size=0.2, random_state=42\n",
    ")\n",
    "\n",
    "train_pool = Pool(X_train, y_train, cat_features=cat_features)\n",
    "valid_pool = Pool(X_valid, y_valid, cat_features=cat_features)\n",
    "\n",
    "model = CatBoostRegressor(\n",
    "    iterations=1000,\n",
    "    learning_rate=0.05,\n",
    "    depth=6,\n",
    "    loss_function='RMSE',\n",
    "    eval_metric='RMSE',\n",
    "    random_seed=42,\n",
    "    early_stopping_rounds=50,\n",
    "    verbose=100\n",
    ")\n",
    "\n",
    "model.fit(train_pool, eval_set=valid_pool)\n",
    "\n",
    "y_pred = model.predict(X_valid)\n",
    "rmsle = np.sqrt(mean_squared_log_error(y_valid, y_pred))\n",
    "print(f'Validation RMSLE: {rmsle:.4f}')\n",
    "\n",
    "id_series = df.loc[X_valid.index, id_col]\n",
    "id_valid = pd.DataFrame({\n",
    "    id_col: id_series,\n",
    "    'Predicted_Rings': y_pred,\n",
    "    'Actual_Rings': y_valid.values\n",
    "})\n",
    "\n",
    "print(id_valid[[id_col, 'Predicted_Rings', 'Actual_Rings']].head())"
   ]
  }
 ],
 "metadata": {
  "kernelspec": {
   "display_name": "ecs171",
   "language": "python",
   "name": "python3"
  },
  "language_info": {
   "codemirror_mode": {
    "name": "ipython",
    "version": 3
   },
   "file_extension": ".py",
   "mimetype": "text/x-python",
   "name": "python",
   "nbconvert_exporter": "python",
   "pygments_lexer": "ipython3",
   "version": "3.10.16"
  }
 },
 "nbformat": 4,
 "nbformat_minor": 2
}
