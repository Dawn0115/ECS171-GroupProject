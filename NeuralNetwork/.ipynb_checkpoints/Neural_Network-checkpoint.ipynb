{
  "cells": [
    {
      "cell_type": "code",
      "execution_count": 16,
      "id": "b47c7aaf-9647-440e-98f9-ed6ffb0b1ede",
      "metadata": {
        "colab": {
          "base_uri": "https://localhost:8080/"
        },
        "id": "b47c7aaf-9647-440e-98f9-ed6ffb0b1ede",
        "outputId": "166eff5f-2f7d-485b-d91d-407e8fd8d38e"
      },
      "outputs": [
        {
          "output_type": "stream",
          "name": "stderr",
          "text": [
            "[I 2025-05-28 08:27:23,317] A new study created in memory with name: no-name-a619baa8-0ca0-4a19-ae66-02c5e1d44839\n",
            "[I 2025-05-28 08:28:34,183] Trial 0 finished with value: 3.991179943084717 and parameters: {'hidden_size': 18, 'dropout_rate': 0.3925780096810968, 'batch_size': 952, 'lr': 0.005514383467020957}. Best is trial 0 with value: 3.991179943084717.\n",
            "[I 2025-05-28 08:29:47,457] Trial 1 finished with value: 3.771855592727661 and parameters: {'hidden_size': 43, 'dropout_rate': 0.40926936877564996, 'batch_size': 509, 'lr': 0.002340003532184988}. Best is trial 1 with value: 3.771855592727661.\n",
            "[I 2025-05-28 08:30:56,623] Trial 2 finished with value: 3.8284990787506104 and parameters: {'hidden_size': 20, 'dropout_rate': 0.31269475475501096, 'batch_size': 975, 'lr': 0.007226047060786374}. Best is trial 1 with value: 3.771855592727661.\n",
            "[I 2025-05-28 08:32:11,569] Trial 3 finished with value: 3.5868053436279297 and parameters: {'hidden_size': 61, 'dropout_rate': 0.32695488002723083, 'batch_size': 541, 'lr': 0.0010097359056986408}. Best is trial 3 with value: 3.5868053436279297.\n",
            "[I 2025-05-28 08:33:21,038] Trial 4 finished with value: 7.060081958770752 and parameters: {'hidden_size': 47, 'dropout_rate': 0.5576942408816572, 'batch_size': 981, 'lr': 0.04672005761234537}. Best is trial 3 with value: 3.5868053436279297.\n",
            "[I 2025-05-28 08:34:34,648] Trial 5 finished with value: 3.9317290782928467 and parameters: {'hidden_size': 59, 'dropout_rate': 0.5306759802008735, 'batch_size': 733, 'lr': 0.0018827212347358568}. Best is trial 3 with value: 3.5868053436279297.\n",
            "[I 2025-05-28 08:35:45,663] Trial 6 finished with value: 8.41215991973877 and parameters: {'hidden_size': 63, 'dropout_rate': 0.6577910097755939, 'batch_size': 939, 'lr': 0.03127927444528699}. Best is trial 3 with value: 3.5868053436279297.\n",
            "[I 2025-05-28 08:36:58,156] Trial 7 finished with value: 3.6650607585906982 and parameters: {'hidden_size': 63, 'dropout_rate': 0.3854519607046287, 'batch_size': 875, 'lr': 0.0022750820565537663}. Best is trial 3 with value: 3.5868053436279297.\n",
            "[I 2025-05-28 08:38:21,975] Trial 8 finished with value: 4.2729387283325195 and parameters: {'hidden_size': 38, 'dropout_rate': 0.6153463311833234, 'batch_size': 363, 'lr': 0.0025320013742260203}. Best is trial 3 with value: 3.5868053436279297.\n",
            "[I 2025-05-28 08:39:35,312] Trial 9 finished with value: 4.004167556762695 and parameters: {'hidden_size': 55, 'dropout_rate': 0.5736718154074565, 'batch_size': 506, 'lr': 0.0067279736904376705}. Best is trial 3 with value: 3.5868053436279297.\n",
            "[I 2025-05-28 08:40:45,458] Trial 10 finished with value: 3.7255661487579346 and parameters: {'hidden_size': 31, 'dropout_rate': 0.4682459312106788, 'batch_size': 693, 'lr': 0.001102028254948028}. Best is trial 3 with value: 3.5868053436279297.\n",
            "[I 2025-05-28 08:41:53,794] Trial 11 finished with value: 3.610996961593628 and parameters: {'hidden_size': 52, 'dropout_rate': 0.3208399974449957, 'batch_size': 810, 'lr': 0.0010153770494508968}. Best is trial 3 with value: 3.5868053436279297.\n",
            "[I 2025-05-28 08:43:04,218] Trial 12 finished with value: 3.619832992553711 and parameters: {'hidden_size': 52, 'dropout_rate': 0.3059982791157854, 'batch_size': 768, 'lr': 0.0010111641924919312}. Best is trial 3 with value: 3.5868053436279297.\n",
            "[I 2025-05-28 08:44:18,930] Trial 13 finished with value: 5.699059963226318 and parameters: {'hidden_size': 51, 'dropout_rate': 0.4570181932927301, 'batch_size': 569, 'lr': 0.023385070433970145}. Best is trial 3 with value: 3.5868053436279297.\n",
            "[I 2025-05-28 08:45:48,462] Trial 14 finished with value: 5.270411491394043 and parameters: {'hidden_size': 57, 'dropout_rate': 0.34615290608451976, 'batch_size': 286, 'lr': 0.015627920814548786}. Best is trial 3 with value: 3.5868053436279297.\n",
            "[I 2025-05-28 08:46:58,084] Trial 15 finished with value: 5.291915416717529 and parameters: {'hidden_size': 34, 'dropout_rate': 0.35772556752288026, 'batch_size': 796, 'lr': 0.07686712421835745}. Best is trial 3 with value: 3.5868053436279297.\n",
            "[I 2025-05-28 08:48:10,480] Trial 16 finished with value: 3.8101909160614014 and parameters: {'hidden_size': 47, 'dropout_rate': 0.44538692241914735, 'batch_size': 631, 'lr': 0.0032662836214997107}. Best is trial 3 with value: 3.5868053436279297.\n",
            "[I 2025-05-28 08:49:26,935] Trial 17 finished with value: 3.662947177886963 and parameters: {'hidden_size': 60, 'dropout_rate': 0.34586424129308385, 'batch_size': 453, 'lr': 0.0013835614545860968}. Best is trial 3 with value: 3.5868053436279297.\n",
            "[I 2025-05-28 08:50:34,379] Trial 18 finished with value: 3.8759264945983887 and parameters: {'hidden_size': 48, 'dropout_rate': 0.505769041107384, 'batch_size': 840, 'lr': 0.004036359288429426}. Best is trial 3 with value: 3.5868053436279297.\n",
            "[I 2025-05-28 08:51:45,905] Trial 19 finished with value: 3.787022829055786 and parameters: {'hidden_size': 27, 'dropout_rate': 0.3000368951376029, 'batch_size': 622, 'lr': 0.011676607753937866}. Best is trial 3 with value: 3.5868053436279297.\n",
            "[I 2025-05-28 08:53:05,483] Trial 20 finished with value: 3.8111588954925537 and parameters: {'hidden_size': 41, 'dropout_rate': 0.4375513368010014, 'batch_size': 406, 'lr': 0.00378679945434043}. Best is trial 3 with value: 3.5868053436279297.\n",
            "[I 2025-05-28 08:54:17,558] Trial 21 finished with value: 3.606762409210205 and parameters: {'hidden_size': 53, 'dropout_rate': 0.33132087547375166, 'batch_size': 765, 'lr': 0.0010441683016509434}. Best is trial 3 with value: 3.5868053436279297.\n",
            "[I 2025-05-28 08:55:29,619] Trial 22 finished with value: 3.652545213699341 and parameters: {'hidden_size': 55, 'dropout_rate': 0.3580860096889402, 'batch_size': 697, 'lr': 0.0016152665571589468}. Best is trial 3 with value: 3.5868053436279297.\n",
            "[I 2025-05-28 08:56:41,902] Trial 23 finished with value: 3.6175615787506104 and parameters: {'hidden_size': 52, 'dropout_rate': 0.33428556497030787, 'batch_size': 876, 'lr': 0.0010406288288857795}. Best is trial 3 with value: 3.5868053436279297.\n",
            "[I 2025-05-28 08:57:55,771] Trial 24 finished with value: 3.707571268081665 and parameters: {'hidden_size': 64, 'dropout_rate': 0.4104198584464347, 'batch_size': 584, 'lr': 0.0016530678987322835}. Best is trial 3 with value: 3.5868053436279297.\n"
          ]
        },
        {
          "output_type": "stream",
          "name": "stdout",
          "text": [
            "Best trial:\n",
            "{'hidden_size': 61, 'dropout_rate': 0.32695488002723083, 'batch_size': 541, 'lr': 0.0010097359056986408}\n",
            "Best Val MSE: 3.5868053436279297\n"
          ]
        }
      ],
      "source": [
        "import pandas as pd\n",
        "import numpy as np\n",
        "import torch\n",
        "import torch.nn as nn\n",
        "from torch.utils.data import TensorDataset, DataLoader\n",
        "from sklearn.model_selection import train_test_split\n",
        "from sklearn.metrics import mean_squared_error\n",
        "import optuna\n",
        "import os\n",
        "\n",
        "def manual_openfe_features(df_raw):\n",
        "    df = df_raw.copy()\n",
        "    eps = 1e-6\n",
        "    freq_shell = df[\"Shell weight\"].value_counts(normalize=True)\n",
        "    freq_whole = df[\"Whole weight\"].value_counts(normalize=True)\n",
        "    freq_feature_shell = df[\"Shell weight\"].map(freq_shell)\n",
        "    freq_feature_whole = df[\"Whole weight\"].map(freq_whole)\n",
        "    df_manual = pd.DataFrame({\n",
        "        \"f01_Length_div_ShellWeight\": df[\"Length\"] / (df[\"Shell weight\"] + eps),\n",
        "        \"f02_Whole1_div_ShellWeight\": df[\"Whole weight.1\"] / (df[\"Shell weight\"] + eps),\n",
        "        \"f03_Diameter_div_ShellWeight\": df[\"Diameter\"] / (df[\"Shell weight\"] + eps),\n",
        "        \"f04_Whole_div_Whole1\": df[\"Whole weight\"] / (df[\"Whole weight.1\"] + eps),\n",
        "        \"f05_Length_minus_Shell\": df[\"Length\"] - df[\"Shell weight\"],\n",
        "        \"f06_freq_ShellWeight\": freq_feature_shell,\n",
        "        \"f07_freq_WholeWeight\": freq_feature_whole\n",
        "    })\n",
        "    return df_manual\n",
        "\n",
        "\n",
        "df = pd.read_csv(\"train_cleaned_sex_binary.csv\")\n",
        "y = df[\"Rings\"].values\n",
        "X_raw = df.drop(columns=[\"Rings\", \"id\"], errors=\"ignore\")\n",
        "X_manual = manual_openfe_features(X_raw)\n",
        "X_final = pd.concat([X_raw.reset_index(drop=True), X_manual], axis=1)\n",
        "X_final = X_final.drop(columns=[\"Length\", \"Whole weight\"], errors=\"ignore\")\n",
        "X_np = X_final.values\n",
        "\n",
        "\n",
        "X_train, X_val, y_train, y_val = train_test_split(\n",
        "    X_np, y, test_size=0.2, random_state=42\n",
        ")\n",
        "\n",
        "device = torch.device(\"cuda\" if torch.cuda.is_available() else \"cpu\")\n",
        "\n",
        "class ANN(nn.Module):\n",
        "    def __init__(self, input_size, hidden_size, dropout_rate):\n",
        "        super(ANN, self).__init__()\n",
        "        self.model = nn.Sequential(\n",
        "            nn.Linear(input_size, hidden_size),\n",
        "            nn.ReLU(),\n",
        "            nn.Dropout(dropout_rate),\n",
        "            nn.Linear(hidden_size, hidden_size),\n",
        "            nn.ReLU(),\n",
        "            nn.Dropout(dropout_rate),\n",
        "            nn.Linear(hidden_size, 1)\n",
        "        )\n",
        "    def forward(self, x):\n",
        "        return self.model(x)\n",
        "\n",
        "def objective(trial):\n",
        "    hidden_size = trial.suggest_int('hidden_size', 16, 64)\n",
        "    dropout_rate = trial.suggest_float('dropout_rate', 0.3, 0.7)\n",
        "    batch_size = trial.suggest_int('batch_size', 256, 1024)\n",
        "    lr = trial.suggest_float('lr', 0.001, 0.1, log=True)\n",
        "\n",
        "    # 数据准备\n",
        "    X_train_tensor = torch.tensor(X_train, dtype=torch.float32)\n",
        "    y_train_tensor = torch.tensor(y_train, dtype=torch.float32).view(-1, 1)\n",
        "    X_val_tensor = torch.tensor(X_val, dtype=torch.float32)\n",
        "    y_val_tensor = torch.tensor(y_val, dtype=torch.float32).view(-1, 1)\n",
        "\n",
        "    train_dataset = TensorDataset(X_train_tensor, y_train_tensor)\n",
        "    train_loader = DataLoader(train_dataset, batch_size=batch_size, shuffle=True, num_workers=0)\n",
        "\n",
        "    model = ANN(X_train.shape[1], hidden_size, dropout_rate).to(device)\n",
        "    optimizer = torch.optim.Adam(model.parameters(), lr=lr)\n",
        "    criterion = nn.MSELoss()\n",
        "    n_epochs = 100\n",
        "\n",
        "    for epoch in range(n_epochs):\n",
        "        model.train()\n",
        "        for X_batch, y_batch in train_loader:\n",
        "            X_batch, y_batch = X_batch.to(device), y_batch.to(device)\n",
        "            optimizer.zero_grad()\n",
        "            loss = criterion(model(X_batch), y_batch)\n",
        "            loss.backward()\n",
        "            optimizer.step()\n",
        "\n",
        "    model.eval()\n",
        "    with torch.no_grad():\n",
        "        y_pred = model(X_val_tensor.to(device)).cpu().numpy()\n",
        "        mse = mean_squared_error(y_val, y_pred)\n",
        "\n",
        "    # 保存每个trial结果到txt\n",
        "    with open(\"optuna_singleval_results.txt\", \"a\") as f:\n",
        "        f.write(\n",
        "            f\"Trial {trial.number}, hidden_size={hidden_size}, dropout_rate={dropout_rate}, \"\n",
        "            f\"batch_size={batch_size}, lr={lr}, val MSE={mse:.6f}\\n\"\n",
        "        )\n",
        "    return mse\n",
        "\n",
        "if os.path.exists(\"optuna_singleval_results.txt\"):\n",
        "    os.remove(\"optuna_singleval_results.txt\")\n",
        "\n",
        "study = optuna.create_study(direction=\"minimize\")\n",
        "study.optimize(objective, n_trials=25)\n",
        "\n",
        "print(\"Best trial:\")\n",
        "trial = study.best_trial\n",
        "print(trial.params)\n",
        "print(\"Best Val MSE:\", trial.value)\n",
        "\n",
        "with open(\"best_optuna_singleval_params.txt\", \"w\") as f:\n",
        "    f.write(str(trial.params) + f\"\\nval MSE: {trial.value:.6f}\\n\")\n",
        "\n",
        "\n"
      ]
    },
    {
      "cell_type": "markdown",
      "source": [
        "# 新段落"
      ],
      "metadata": {
        "id": "406P0otcY_Xf"
      },
      "id": "406P0otcY_Xf"
    },
    {
      "cell_type": "markdown",
      "source": [
        "# 新段落"
      ],
      "metadata": {
        "id": "gtau3u2ln6RX"
      },
      "id": "gtau3u2ln6RX"
    },
    {
      "cell_type": "code",
      "execution_count": null,
      "id": "9b2e9c89-ab29-4ead-bfe5-32861ee01177",
      "metadata": {
        "id": "9b2e9c89-ab29-4ead-bfe5-32861ee01177"
      },
      "outputs": [],
      "source": []
    }
  ],
  "metadata": {
    "kernelspec": {
      "display_name": "Python [conda env:base] *",
      "language": "python",
      "name": "conda-base-py"
    },
    "language_info": {
      "codemirror_mode": {
        "name": "ipython",
        "version": 3
      },
      "file_extension": ".py",
      "mimetype": "text/x-python",
      "name": "python",
      "nbconvert_exporter": "python",
      "pygments_lexer": "ipython3",
      "version": "3.12.7"
    },
    "colab": {
      "provenance": [],
      "gpuType": "A100"
    },
    "accelerator": "GPU"
  },
  "nbformat": 4,
  "nbformat_minor": 5
}